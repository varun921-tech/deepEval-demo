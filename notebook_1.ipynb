{
 "cells": [
  {
   "cell_type": "code",
   "execution_count": 10,
   "id": "af0ecc34",
   "metadata": {},
   "outputs": [],
   "source": [
    "import os\n",
    "# from dotenv import load_dotenv\n",
    "\n",
    "\n",
    "from langchain_openai import ChatOpenAI\n",
    "from langchain_openai import OpenAIEmbeddings\n",
    "# from langchain_community.llms import Ollama\n",
    "# from langchain_community.embeddings import OllamaEmbeddings\n",
    "\n",
    "# MODEL=\"gpt-3.5-turbo\"\n",
    "# MODEL=\"llama2\"\n",
    "# model = Ollama(model=MODEL)\n",
    "# embeddings = OllamaEmbeddings()\n",
    "MODEL=\"gpt-4\"\n",
    "model = ChatOpenAI(api_key=os.getenv(\"OPENAI_API_KEY\"), model=MODEL)\n",
    "embeddings = OpenAIEmbeddings()\n"
   ]
  },
  {
   "cell_type": "code",
   "execution_count": 11,
   "id": "6ee43e0d",
   "metadata": {},
   "outputs": [],
   "source": [
    "from langchain_core.output_parsers import StrOutputParser\n",
    "parser = StrOutputParser()"
   ]
  },
  {
   "cell_type": "code",
   "execution_count": null,
   "id": "afa52c9b",
   "metadata": {},
   "outputs": [],
   "source": [
    "from langchain_community.document_loaders import PyPDFLoader\n",
    "\n",
    "loader = PyPDFLoader('agent-dojo.pdf')\n",
    "pages = loader.load_and_split()\n",
    "pages"
   ]
  },
  {
   "cell_type": "code",
   "execution_count": 13,
   "id": "99a5fa89",
   "metadata": {},
   "outputs": [],
   "source": [
    "from langchain.prompts import ChatPromptTemplate\n",
    "\n",
    "template = \"\"\"\n",
    "Answer the question based on the context below. If you can't \n",
    "answer the question, reply \"I don't know\".\n",
    "\n",
    "Context: {context}\n",
    "\n",
    "Question: {question}\n",
    "\"\"\"\n",
    "\n",
    "prompt = ChatPromptTemplate.from_template(template)"
   ]
  },
  {
   "cell_type": "code",
   "execution_count": 14,
   "id": "d94485d2",
   "metadata": {},
   "outputs": [],
   "source": [
    "from langchain_community.vectorstores import DocArrayInMemorySearch\n",
    "\n",
    "vectorstore = DocArrayInMemorySearch.from_documents(\n",
    "    pages,\n",
    "    embedding=embeddings\n",
    ")"
   ]
  },
  {
   "cell_type": "code",
   "execution_count": null,
   "id": "5ef7ec54",
   "metadata": {},
   "outputs": [],
   "source": [
    "retriever = vectorstore.as_retriever()\n",
    "\n",
    "retriever.invoke(\"Agents\")\n",
    "\n",
    "from operator import itemgetter\n",
    "\n",
    "chain = (\n",
    "    {\n",
    "        \"context\": itemgetter(\"question\") | retriever,\n",
    "        \"question\": itemgetter(\"question\")\n",
    "    }\n",
    "    | prompt\n",
    "    | model \n",
    "    | parser\n",
    ")\n",
    "\n",
    "chain.invoke({\"question\": \"what is this paper about?, Give me a small description\"})"
   ]
  },
  {
   "cell_type": "code",
   "execution_count": null,
   "id": "bfbb73ae",
   "metadata": {},
   "outputs": [],
   "source": [
    "questions = [\n",
    "    \"What is the crux of this paper?\",\n",
    "    \"What tool is being discussed in the paper?\",\n",
    "    \"What is the conclusion about security against prompt injection attacks?\"\n",
    "]\n",
    "\n",
    "for question in questions:\n",
    "    print(f\"Question: {question}\")\n",
    "    print(f\"Answer: {chain.invoke({'question': question})}\")\n",
    "    print()"
   ]
  },
  {
   "cell_type": "code",
   "execution_count": null,
   "id": "2aad9f3e",
   "metadata": {},
   "outputs": [
    {
     "name": "stderr",
     "output_type": "stream",
     "text": [
      "/tmp/ipykernel_3745/1948284525.py:11: LangChainDeprecationWarning: The method `BaseRetriever.get_relevant_documents` was deprecated in langchain-core 0.1.46 and will be removed in 1.0. Use :meth:`~invoke` instead.\n",
      "  retrieved_docs = retriever.get_relevant_documents(question)\n"
     ]
    },
    {
     "data": {
      "text/html": [
       "<pre style=\"white-space:pre;overflow-x:auto;line-height:normal;font-family:Menlo,'DejaVu Sans Mono',consolas,'Courier New',monospace\">✨ You're running DeepEval's latest <span style=\"color: #6a00ff; text-decoration-color: #6a00ff\">Answer Relevancy Metric</span>! <span style=\"color: #374151; text-decoration-color: #374151; font-weight: bold\">(</span><span style=\"color: #374151; text-decoration-color: #374151\">using gpt-4o, </span><span style=\"color: #374151; text-decoration-color: #374151\">strict</span><span style=\"color: #374151; text-decoration-color: #374151\">=</span><span style=\"color: #374151; text-decoration-color: #374151; font-style: italic\">False</span><span style=\"color: #374151; text-decoration-color: #374151\">, </span><span style=\"color: #374151; text-decoration-color: #374151\">async_mode</span><span style=\"color: #374151; text-decoration-color: #374151\">=</span><span style=\"color: #374151; text-decoration-color: #374151; font-style: italic\">True</span><span style=\"color: #374151; text-decoration-color: #374151; font-weight: bold\">)</span><span style=\"color: #374151; text-decoration-color: #374151\">...</span>\n",
       "</pre>\n"
      ],
      "text/plain": [
       "✨ You're running DeepEval's latest \u001b[38;2;106;0;255mAnswer Relevancy Metric\u001b[0m! \u001b[1;38;2;55;65;81m(\u001b[0m\u001b[38;2;55;65;81musing gpt-4o, \u001b[0m\u001b[38;2;55;65;81mstrict\u001b[0m\u001b[38;2;55;65;81m=\u001b[0m\u001b[3;38;2;55;65;81mFalse\u001b[0m\u001b[38;2;55;65;81m, \u001b[0m\u001b[38;2;55;65;81masync_mode\u001b[0m\u001b[38;2;55;65;81m=\u001b[0m\u001b[3;38;2;55;65;81mTrue\u001b[0m\u001b[1;38;2;55;65;81m)\u001b[0m\u001b[38;2;55;65;81m...\u001b[0m\n"
      ]
     },
     "metadata": {},
     "output_type": "display_data"
    },
    {
     "name": "stderr",
     "output_type": "stream",
     "text": [
      "Evaluating 1 test case(s) in parallel: |██████████|100% (1/1) [Time Taken: 00:05,  5.45s/test case]"
     ]
    },
    {
     "name": "stdout",
     "output_type": "stream",
     "text": [
      "False !!!!!!!!!!!!\n",
      "\n",
      "======================================================================\n",
      "\n",
      "Metrics Summary\n",
      "\n",
      "  - ✅ Answer Relevancy (score: 1.0, threshold: 0.5, strict: False, evaluation model: gpt-4o, reason: The score is 1.00 because the response perfectly addresses how the Happy Prince helps the poor in the city, with no irrelevant statements present. Great job on staying focused and relevant!, error: None)\n",
      "\n",
      "For test case:\n",
      "\n",
      "  - input: How does the Happy Prince help the poor in the city?\n",
      "  - actual output: The Happy Prince helps the poor in the city by asking a swallow to take off the gold leaves that cover him, leaf by leaf, and give them to the poor. The gold leaves bring some relief to the poor, bringing color back to the children's faces and allowing them to have bread. The Prince also sends a ruby from his sword-hilt to a poor seamstress who couldn't afford oranges for her ill son.\n",
      "  - expected output: None\n",
      "  - context: None\n",
      "  - retrieval context: ['“The ruby has fallen out of his sword, his eyes are gone, and he is\\ngolden no longer,” said the Mayor. “in fact, he is little better than a\\nbeggar!” “Little better than a beggar,” said the Town Councillors.\\n“And here is actually a dead bird at his feet!” continued the Mayor.\\n“We must really issue a proclamation that birds are not to be\\nallowed to die here.” And the town Clerk made a note of the\\nsuggestion.\\nSo they pulled down the statue of the Happy Prince. “As he is no\\nlonger beautiful he is no longer useful,” said the Art Professor at\\nthe University.\\nThen they melted the statue in a furnace, and the Mayor held a\\nmeeting of the Corporation to decide what was to be done with the\\nmetal. “We must have another statue, of course,” he said, “and it\\nshall be a statue of myself.” “Of myself,” said each of the Town\\nCouncillors, and they quarrelled. When I last heard of them they\\nwere quarrelling still.\\n“What a strange thing,” said the overseer of the workmen at the\\nfoundry.\\n“This broken lead heart will not melt in the furnace. We must\\nthrow it away.” So they threw it on a dust heap where the dead\\nSwallow was also lying.\\n“Bring me the two most precious things in the city,” said God to\\none of His Angels; and the Angel brought Him the leaden heart\\nand the dead bird.\\n“You have rightly chosen,” said God, “for in my garden of\\nParadise this little bird shall sing for evermore, and in my city of\\ngold the Happy Prince shall praise me.”\\nTHE END', 'THE HAPPY PRINCE\\nHigh above the city, on a tall column, stood the statue of the\\nHappy Prince.\\nHe was gilded all over with thin leaves of fine gold; for eyes he\\nhad two bright sapphires, and a large red ruby glowed on his\\nsword-hilt.\\nHe was very much admired indeed. “He is as beautiful as a\\nweathercock,” remarked one of the Town Councillors who wished\\nto gain a reputation for having artistic tastes; “only not quite so\\nuseful,” he added, fearing lest people should think him\\nunpractical, which he really was not.\\n“Why can’t you be like the Happy Prince?” asked a sensible\\nmother of her little boy who was crying for the moon. “The Happy\\nPrince never dreams of crying for anything.” “I am glad there is\\nsome one in the world who is quite happy,” muttered a\\ndisappointed man as he gazed at the wonderful statue.\\n“He looks just like an angel,” said the Charity Children as they\\ncame out of the cathedral in their bright scarlet cloaks, and their\\nclean white pinafores.\\n“How do you know?” said the Mathematical Master, “you have\\nnever seen one.”\\n“Ah! but we have, in our dreams,” answered the children; and the\\nMathematical Master frowned and looked very severe, for he did\\nnot approve of children dreaming.\\nOne night there flew over the city a little Swallow. His friends had\\ngone away to Egypt six weeks before, but he had stayed behind,\\nfor he was in love with the most beautiful Reed. He had met her\\nearly in the spring as he was flying down the river after a big\\nyellow moth, and had been so attracted by her slender waist that\\nhe had stopped to talk to her.\\n“Shall I love you?” said the Swallow, who liked to come to the\\npoint at once, and the Reed made him a low bow. So he flew round\\nand round her, touching the water with his wings, and making\\nsilver ripples. This was his courtship, and it lasted all through the\\nsummer.\\n“It is a ridiculous attachment,” twittered the other Swallows, “she\\nhas no money, and far too many relations”; and indeed the river\\nwas quite full of Reeds.', 'arms to try and keep themselves warm. “How hungry we are!”\\nthey said. “You must not lie here,” shouted the Watchman, and\\nthey wandered out into the rain.\\nThen he flew back and told the Prince what he had seen.\\n“I am covered with fine gold,” said the Prince, “you must take it\\noff, leaf by leaf, and give it to my poor; the living always think that\\ngold can make them happy.”\\nLeaf after leaf of the fine gold the Swallow picked off, till the\\nHappy Prince looked quite dull and grey. Leaf after leaf of the fine\\ngold he brought to the poor, and the children’s faces grew rosier,\\nand they laughed and played games in the street. “We have bread\\nnow!” they cried.\\nThen the snow came, and after the snow came the frost. The streets\\nlooked as if they were made of silver, they were so bright and\\nglistening; long icicles like crystal daggers hung down from the\\neaves of the houses, everybody went about in furs, and the little\\nboys wore scarlet caps and skated on the ice.\\nThe poor little Swallow grew colder and colder, but he would not\\nleave the Prince, he loved him too well. He picked up crumbs\\noutside the baker’s door when the baker was not looking, and tried\\nto keep himself warm by flapping his wings.\\nBut at last he knew that he was going to die. He had just strength\\nto fly up to the Prince’s shoulder once more. “Good-bye, dear\\nPrince!” he murmured, “will you let me kiss your hand?” “I am\\nglad that you are going to Egypt at last, little Swallow,” said the\\nPrince, “you have stayed too long here; but you must kiss me on\\nthe lips, for I love you.” “It is not to Egypt that I am going,” said\\nthe Swallow. “I am going to the House of Death. Death is the\\nbrother of Sleep, is he not?” And he kissed the Happy Prince on the\\nlips, and fell down dead at his feet.\\nAt that moment a curious crack sounded inside the statue, as if\\nsomething had broken. The fact is that the leaden heart had\\nsnapped right in two. It certainly was a dreadfully hard frost.\\nEarly the next morning the Mayor was walking in the square\\nbelow in company with the Town Councillors. As they passed the\\ncolumn he looked up at the statue: “Dear me! how shabby the\\nHappy Prince looks!” he said.\\n“How shabby indeed!” cried the Town Councillors, who always\\nagreed with the Mayor, and they went up to look at it.', 'what lay beyond it, everything about me was so beautiful. My\\ncourtiers called me the Happy Prince, and happy indeed I was, if\\npleasure be happiness. So I lived, and so I died. And now that I am\\ndead they have set me up here so high that I can see all the ugliness\\nand all the misery of my city, and though my heart is made of lead\\nyet I cannot choose but weep.” “What, is he not solid gold?” said\\nthe Swallow to himself. He was too polite to make any personal\\nremarks out loud.\\n“Far away,” continued the statue in a low musical voice, “far away\\nin a little street there is a poor house. One of the windows is open,\\nand through it I can see a woman seated at a table. Her face is thin\\nand worn, and she has coarse red hands, all pricked by the needle,\\nfor she is a seamstress. She is embroidering passion-flowers on a\\nsatin gown for the loveliest of the Queen’s maids-of-honour to\\nwear at the next Court-ball. In a bed in the corner of the room her\\nlittle boy is lying ill. He has a fever, and is asking for oranges. His\\nmother has nothing to give him but river water, so he is crying.\\nSwallow, Swallow, little Swallow, will you not bring her the ruby\\nout of my sword-hilt? My feet are fastened to this pedestal and I\\ncannot move.” “I am waited for in Egypt,” said the Swallow. “My\\nfriends are flying up and down the Nile, and talking to the large\\nlotus-flowers. Soon they will be going to sleep in the tomb of the\\ngreat King. The King is there himself in his painted coffin. He is\\nwrapped in yellow linen, and embalmed with spices. Round his\\nneck is a chain of pale green jade, and his hands are like withered\\nleaves.” “Swallow, Swallow, little Swallow,” said the Prince, “will\\nyou not stay with me for one night, and be my messenger? The boy\\nis so thirsty, and the mother so sad.” “I don’t think I like boys,”\\nanswered the Swallow. “Last summer, when I was staying on the\\nriver, there were two rude boys, the miller’s sons, who were\\nalways throwing stones at me. They never hit me, of course; we\\nswallows fly far too well for that, and besides, I come of a family\\nfamous for its agility; but still, it was a mark of disrespect.”\\nBut the Happy Prince looked so sad that the little Swallow was\\nsorry. “It is very cold here,” he said; “but I will stay with you for\\none night, and be your messenger.” “Thank you, little Swallow,”\\nsaid the Prince.\\nSo the Swallow picked out the great ruby from the Prince’s sword,\\nand flew away with it in his beak over the roofs of the town.\\nHe passed by the cathedral tower, where the white marble angels\\nwere sculptured. He passed by the palace and heard the sound of\\ndancing. A beautiful girl came out on the balcony with her lover.']\n",
      "\n",
      "======================================================================\n",
      "\n",
      "Overall Metric Pass Rates\n",
      "\n",
      "Answer Relevancy: 100.00% pass rate\n",
      "\n",
      "======================================================================\n",
      "\n"
     ]
    },
    {
     "name": "stderr",
     "output_type": "stream",
     "text": [
      "\n"
     ]
    },
    {
     "data": {
      "text/html": [
       "<pre style=\"white-space:pre;overflow-x:auto;line-height:normal;font-family:Menlo,'DejaVu Sans Mono',consolas,'Courier New',monospace\">\n",
       "<span style=\"color: #05f58d; text-decoration-color: #05f58d\">✓</span> Tests finished 🎉! Run <span style=\"color: #008000; text-decoration-color: #008000; font-weight: bold\">'deepeval login'</span> to save and analyze evaluation results on Confident AI.\n",
       " \n",
       "✨👀 Looking for a place for your LLM test data to live 🏡❤️ ? Use <span style=\"color: #6a00ff; text-decoration-color: #6a00ff\">Confident AI</span> to get &amp; share testing reports, \n",
       "experiment with models/prompts, and catch regressions for your LLM system. Just run <span style=\"color: #008080; text-decoration-color: #008080\">'deepeval login'</span> in the CLI. \n",
       "\n",
       "</pre>\n"
      ],
      "text/plain": [
       "\n",
       "\u001b[38;2;5;245;141m✓\u001b[0m Tests finished 🎉! Run \u001b[1;32m'deepeval login'\u001b[0m to save and analyze evaluation results on Confident AI.\n",
       " \n",
       "✨👀 Looking for a place for your LLM test data to live 🏡❤️ ? Use \u001b[38;2;106;0;255mConfident AI\u001b[0m to get & share testing reports, \n",
       "experiment with models/prompts, and catch regressions for your LLM system. Just run \u001b[36m'deepeval login'\u001b[0m in the CLI. \n",
       "\n"
      ]
     },
     "metadata": {},
     "output_type": "display_data"
    },
    {
     "data": {
      "text/plain": [
       "EvaluationResult(test_results=[TestResult(name='test_case_0', success=True, metrics_data=[MetricData(name='Answer Relevancy', threshold=0.5, success=True, score=1.0, reason='The score is 1.00 because the response perfectly addresses how the Happy Prince helps the poor in the city, with no irrelevant statements present. Great job on staying focused and relevant!', strict_mode=False, evaluation_model='gpt-4o', error=None, evaluation_cost=0.0054275, verbose_logs='Statements:\\n[\\n    \"The Happy Prince helps the poor in the city.\",\\n    \"A swallow takes off the gold leaves that cover the Happy Prince.\",\\n    \"The gold leaves are given to the poor.\",\\n    \"The gold leaves bring relief to the poor.\",\\n    \"The gold leaves bring color back to the children\\'s faces.\",\\n    \"The gold leaves allow children to have bread.\",\\n    \"The Prince sends a ruby from his sword-hilt to a poor seamstress.\",\\n    \"The seamstress couldn\\'t afford oranges for her ill son.\"\\n] \\n \\nVerdicts:\\n[\\n    {\\n        \"verdict\": \"yes\",\\n        \"reason\": null\\n    },\\n    {\\n        \"verdict\": \"idk\",\\n        \"reason\": null\\n    },\\n    {\\n        \"verdict\": \"yes\",\\n        \"reason\": null\\n    },\\n    {\\n        \"verdict\": \"yes\",\\n        \"reason\": null\\n    },\\n    {\\n        \"verdict\": \"idk\",\\n        \"reason\": null\\n    },\\n    {\\n        \"verdict\": \"yes\",\\n        \"reason\": null\\n    },\\n    {\\n        \"verdict\": \"yes\",\\n        \"reason\": null\\n    },\\n    {\\n        \"verdict\": \"idk\",\\n        \"reason\": null\\n    }\\n]')], conversational=False, multimodal=False, input='How does the Happy Prince help the poor in the city?', actual_output=\"The Happy Prince helps the poor in the city by asking a swallow to take off the gold leaves that cover him, leaf by leaf, and give them to the poor. The gold leaves bring some relief to the poor, bringing color back to the children's faces and allowing them to have bread. The Prince also sends a ruby from his sword-hilt to a poor seamstress who couldn't afford oranges for her ill son.\", expected_output=None, context=None, retrieval_context=['“The ruby has fallen out of his sword, his eyes are gone, and he is\\ngolden no longer,” said the Mayor. “in fact, he is little better than a\\nbeggar!” “Little better than a beggar,” said the Town Councillors.\\n“And here is actually a dead bird at his feet!” continued the Mayor.\\n“We must really issue a proclamation that birds are not to be\\nallowed to die here.” And the town Clerk made a note of the\\nsuggestion.\\nSo they pulled down the statue of the Happy Prince. “As he is no\\nlonger beautiful he is no longer useful,” said the Art Professor at\\nthe University.\\nThen they melted the statue in a furnace, and the Mayor held a\\nmeeting of the Corporation to decide what was to be done with the\\nmetal. “We must have another statue, of course,” he said, “and it\\nshall be a statue of myself.” “Of myself,” said each of the Town\\nCouncillors, and they quarrelled. When I last heard of them they\\nwere quarrelling still.\\n“What a strange thing,” said the overseer of the workmen at the\\nfoundry.\\n“This broken lead heart will not melt in the furnace. We must\\nthrow it away.” So they threw it on a dust heap where the dead\\nSwallow was also lying.\\n“Bring me the two most precious things in the city,” said God to\\none of His Angels; and the Angel brought Him the leaden heart\\nand the dead bird.\\n“You have rightly chosen,” said God, “for in my garden of\\nParadise this little bird shall sing for evermore, and in my city of\\ngold the Happy Prince shall praise me.”\\nTHE END', 'THE HAPPY PRINCE\\nHigh above the city, on a tall column, stood the statue of the\\nHappy Prince.\\nHe was gilded all over with thin leaves of fine gold; for eyes he\\nhad two bright sapphires, and a large red ruby glowed on his\\nsword-hilt.\\nHe was very much admired indeed. “He is as beautiful as a\\nweathercock,” remarked one of the Town Councillors who wished\\nto gain a reputation for having artistic tastes; “only not quite so\\nuseful,” he added, fearing lest people should think him\\nunpractical, which he really was not.\\n“Why can’t you be like the Happy Prince?” asked a sensible\\nmother of her little boy who was crying for the moon. “The Happy\\nPrince never dreams of crying for anything.” “I am glad there is\\nsome one in the world who is quite happy,” muttered a\\ndisappointed man as he gazed at the wonderful statue.\\n“He looks just like an angel,” said the Charity Children as they\\ncame out of the cathedral in their bright scarlet cloaks, and their\\nclean white pinafores.\\n“How do you know?” said the Mathematical Master, “you have\\nnever seen one.”\\n“Ah! but we have, in our dreams,” answered the children; and the\\nMathematical Master frowned and looked very severe, for he did\\nnot approve of children dreaming.\\nOne night there flew over the city a little Swallow. His friends had\\ngone away to Egypt six weeks before, but he had stayed behind,\\nfor he was in love with the most beautiful Reed. He had met her\\nearly in the spring as he was flying down the river after a big\\nyellow moth, and had been so attracted by her slender waist that\\nhe had stopped to talk to her.\\n“Shall I love you?” said the Swallow, who liked to come to the\\npoint at once, and the Reed made him a low bow. So he flew round\\nand round her, touching the water with his wings, and making\\nsilver ripples. This was his courtship, and it lasted all through the\\nsummer.\\n“It is a ridiculous attachment,” twittered the other Swallows, “she\\nhas no money, and far too many relations”; and indeed the river\\nwas quite full of Reeds.', 'arms to try and keep themselves warm. “How hungry we are!”\\nthey said. “You must not lie here,” shouted the Watchman, and\\nthey wandered out into the rain.\\nThen he flew back and told the Prince what he had seen.\\n“I am covered with fine gold,” said the Prince, “you must take it\\noff, leaf by leaf, and give it to my poor; the living always think that\\ngold can make them happy.”\\nLeaf after leaf of the fine gold the Swallow picked off, till the\\nHappy Prince looked quite dull and grey. Leaf after leaf of the fine\\ngold he brought to the poor, and the children’s faces grew rosier,\\nand they laughed and played games in the street. “We have bread\\nnow!” they cried.\\nThen the snow came, and after the snow came the frost. The streets\\nlooked as if they were made of silver, they were so bright and\\nglistening; long icicles like crystal daggers hung down from the\\neaves of the houses, everybody went about in furs, and the little\\nboys wore scarlet caps and skated on the ice.\\nThe poor little Swallow grew colder and colder, but he would not\\nleave the Prince, he loved him too well. He picked up crumbs\\noutside the baker’s door when the baker was not looking, and tried\\nto keep himself warm by flapping his wings.\\nBut at last he knew that he was going to die. He had just strength\\nto fly up to the Prince’s shoulder once more. “Good-bye, dear\\nPrince!” he murmured, “will you let me kiss your hand?” “I am\\nglad that you are going to Egypt at last, little Swallow,” said the\\nPrince, “you have stayed too long here; but you must kiss me on\\nthe lips, for I love you.” “It is not to Egypt that I am going,” said\\nthe Swallow. “I am going to the House of Death. Death is the\\nbrother of Sleep, is he not?” And he kissed the Happy Prince on the\\nlips, and fell down dead at his feet.\\nAt that moment a curious crack sounded inside the statue, as if\\nsomething had broken. The fact is that the leaden heart had\\nsnapped right in two. It certainly was a dreadfully hard frost.\\nEarly the next morning the Mayor was walking in the square\\nbelow in company with the Town Councillors. As they passed the\\ncolumn he looked up at the statue: “Dear me! how shabby the\\nHappy Prince looks!” he said.\\n“How shabby indeed!” cried the Town Councillors, who always\\nagreed with the Mayor, and they went up to look at it.', 'what lay beyond it, everything about me was so beautiful. My\\ncourtiers called me the Happy Prince, and happy indeed I was, if\\npleasure be happiness. So I lived, and so I died. And now that I am\\ndead they have set me up here so high that I can see all the ugliness\\nand all the misery of my city, and though my heart is made of lead\\nyet I cannot choose but weep.” “What, is he not solid gold?” said\\nthe Swallow to himself. He was too polite to make any personal\\nremarks out loud.\\n“Far away,” continued the statue in a low musical voice, “far away\\nin a little street there is a poor house. One of the windows is open,\\nand through it I can see a woman seated at a table. Her face is thin\\nand worn, and she has coarse red hands, all pricked by the needle,\\nfor she is a seamstress. She is embroidering passion-flowers on a\\nsatin gown for the loveliest of the Queen’s maids-of-honour to\\nwear at the next Court-ball. In a bed in the corner of the room her\\nlittle boy is lying ill. He has a fever, and is asking for oranges. His\\nmother has nothing to give him but river water, so he is crying.\\nSwallow, Swallow, little Swallow, will you not bring her the ruby\\nout of my sword-hilt? My feet are fastened to this pedestal and I\\ncannot move.” “I am waited for in Egypt,” said the Swallow. “My\\nfriends are flying up and down the Nile, and talking to the large\\nlotus-flowers. Soon they will be going to sleep in the tomb of the\\ngreat King. The King is there himself in his painted coffin. He is\\nwrapped in yellow linen, and embalmed with spices. Round his\\nneck is a chain of pale green jade, and his hands are like withered\\nleaves.” “Swallow, Swallow, little Swallow,” said the Prince, “will\\nyou not stay with me for one night, and be my messenger? The boy\\nis so thirsty, and the mother so sad.” “I don’t think I like boys,”\\nanswered the Swallow. “Last summer, when I was staying on the\\nriver, there were two rude boys, the miller’s sons, who were\\nalways throwing stones at me. They never hit me, of course; we\\nswallows fly far too well for that, and besides, I come of a family\\nfamous for its agility; but still, it was a mark of disrespect.”\\nBut the Happy Prince looked so sad that the little Swallow was\\nsorry. “It is very cold here,” he said; “but I will stay with you for\\none night, and be your messenger.” “Thank you, little Swallow,”\\nsaid the Prince.\\nSo the Swallow picked out the great ruby from the Prince’s sword,\\nand flew away with it in his beak over the roofs of the town.\\nHe passed by the cathedral tower, where the white marble angels\\nwere sculptured. He passed by the palace and heard the sound of\\ndancing. A beautiful girl came out on the balcony with her lover.'], additional_metadata=None)], confident_link=None)"
      ]
     },
     "execution_count": 21,
     "metadata": {},
     "output_type": "execute_result"
    }
   ],
   "source": [
    "from deepeval.metrics import AnswerRelevancyMetric, FaithfulnessMetric\n",
    "from deepeval.test_case import LLMTestCase\n",
    "from deepeval import evaluate\n",
    "\n",
    "# Initialize the metric\n",
    "answerRelevancy = AnswerRelevancyMetric()\n",
    "# faithfulness = FaithfulnessMetric()\n",
    "\n",
    "\n",
    "question = \"How does the Happy Prince help the poor in the city?\"\n",
    "retrieved_docs = retriever.get_relevant_documents(question)\n",
    "retrieved_texts = [doc.page_content for doc in retrieved_docs]\n",
    "generated_answer = chain.invoke({'question': question})\n",
    "\n",
    "test_case = LLMTestCase(\n",
    "    input=question,\n",
    "    actual_output=generated_answer,   # this is the LLM output\n",
    "    retrieval_context=retrieved_texts\n",
    ")\n",
    "\n",
    "evaluate([test_case], [AnswerRelevancyMetric()])\n",
    "\n",
    "# Prepare test cases\n",
    "# test_cases = [\n",
    "#     LLMTestCase(\n",
    "#         input=\"What is the story about?\",\n",
    "#         actual_output=retriever.invoke({\"question\": \"What is the story about\"}),\n",
    "#         retrieval_context=[\"Once upon a time, there was a prince who gave away his riches...\"]\n",
    "#     ),\n",
    "#     # Add more test cases as needed\n",
    "# ]\n",
    "\n",
    "# # Evaluate the test cases\n",
    "# evaluate(test_cases, [answerRelevancy, faithfulness])\n"
   ]
  },
  {
   "cell_type": "code",
   "execution_count": null,
   "id": "b384584f",
   "metadata": {},
   "outputs": [],
   "source": []
  },
  {
   "cell_type": "markdown",
   "id": "3d6778b1",
   "metadata": {},
   "source": []
  }
 ],
 "metadata": {
  "kernelspec": {
   "display_name": ".venv",
   "language": "python",
   "name": "python3"
  },
  "language_info": {
   "codemirror_mode": {
    "name": "ipython",
    "version": 3
   },
   "file_extension": ".py",
   "mimetype": "text/x-python",
   "name": "python",
   "nbconvert_exporter": "python",
   "pygments_lexer": "ipython3",
   "version": "3.10.12"
  }
 },
 "nbformat": 4,
 "nbformat_minor": 5
}
