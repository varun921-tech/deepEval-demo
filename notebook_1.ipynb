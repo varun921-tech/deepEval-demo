{
 "cells": [
  {
   "cell_type": "code",
   "execution_count": 3,
   "id": "af0ecc34",
   "metadata": {},
   "outputs": [],
   "source": [
    "import os\n",
    "# from dotenv import load_dotenv\n",
    "\n",
    "\n",
    "from langchain_openai import ChatOpenAI\n",
    "from langchain_openai import OpenAIEmbeddings\n",
    "# from langchain_community.llms import Ollama\n",
    "# from langchain_community.embeddings import OllamaEmbeddings\n",
    "\n",
    "# MODEL=\"gpt-3.5-turbo\"\n",
    "# MODEL=\"llama2\"\n",
    "# model = Ollama(model=MODEL)\n",
    "# embeddings = OllamaEmbeddings()\n",
    "MODEL=\"gpt-4\"\n",
    "model = ChatOpenAI(api_key=os.getenv(\"OPENAI_API_KEY\"), model=MODEL)\n",
    "embeddings = OpenAIEmbeddings()\n"
   ]
  },
  {
   "cell_type": "code",
   "execution_count": 4,
   "id": "6ee43e0d",
   "metadata": {},
   "outputs": [],
   "source": [
    "from langchain_core.output_parsers import StrOutputParser\n",
    "parser = StrOutputParser()"
   ]
  },
  {
   "cell_type": "code",
   "execution_count": null,
   "id": "afa52c9b",
   "metadata": {},
   "outputs": [],
   "source": [
    "from langchain_community.document_loaders import PyPDFLoader\n",
    "\n",
    "loader = PyPDFLoader('agent-dojo.pdf')\n",
    "pages = loader.load_and_split()\n",
    "pages"
   ]
  },
  {
   "cell_type": "code",
   "execution_count": 6,
   "id": "99a5fa89",
   "metadata": {},
   "outputs": [],
   "source": [
    "from langchain.prompts import ChatPromptTemplate\n",
    "\n",
    "template = \"\"\"\n",
    "Answer the question based on the context below. If you can't \n",
    "answer the question, reply \"I don't know\".\n",
    "\n",
    "Context: {context}\n",
    "\n",
    "Question: {question}\n",
    "\"\"\"\n",
    "\n",
    "prompt = ChatPromptTemplate.from_template(template)"
   ]
  },
  {
   "cell_type": "code",
   "execution_count": null,
   "id": "d94485d2",
   "metadata": {},
   "outputs": [],
   "source": [
    "from langchain_community.vectorstores import DocArrayInMemorySearch\n",
    "\n",
    "vectorstore = DocArrayInMemorySearch.from_documents(\n",
    "    pages,\n",
    "    embedding=embeddings\n",
    ")"
   ]
  },
  {
   "cell_type": "code",
   "execution_count": null,
   "id": "5ef7ec54",
   "metadata": {},
   "outputs": [],
   "source": [
    "retriever = vectorstore.as_retriever()\n",
    "\n",
    "retriever.invoke(\"Agents\")\n",
    "\n",
    "from operator import itemgetter\n",
    "\n",
    "chain = (\n",
    "    {\n",
    "        \"context\": itemgetter(\"question\") | retriever,\n",
    "        \"question\": itemgetter(\"question\")\n",
    "    }\n",
    "    | prompt\n",
    "    | model \n",
    "    | parser\n",
    ")\n",
    "\n",
    "chain.invoke({\"question\": \"what is this paper about?, Give me a small description\"})"
   ]
  },
  {
   "cell_type": "code",
   "execution_count": null,
   "id": "bfbb73ae",
   "metadata": {},
   "outputs": [],
   "source": [
    "questions = [\n",
    "    \"What is the crux of this paper?\",\n",
    "    \"What tool is being discussed in the paper?\",\n",
    "    \"What is the conclusion about security against prompt injection attacks?\"\n",
    "]\n",
    "\n",
    "for question in questions:\n",
    "    print(f\"Question: {question}\")\n",
    "    print(f\"Answer: {chain.invoke({'question': question})}\")\n",
    "    print()"
   ]
  },
  {
   "cell_type": "code",
   "execution_count": null,
   "id": "2aad9f3e",
   "metadata": {},
   "outputs": [],
   "source": [
    "from deepeval.metrics import AnswerRelevancyMetric, FaithfulnessMetric\n",
    "from deepeval.test_case import LLMTestCase\n",
    "from deepeval import evaluate\n",
    "\n",
    "# Initialize the metric\n",
    "answerRelevancy = AnswerRelevancyMetric()\n",
    "# faithfulness = FaithfulnessMetric()\n",
    "\n",
    "\n",
    "question = \"What does Agent Dojo do?\"\n",
    "retrieved_docs = retriever.get_relevant_documents(question)\n",
    "retrieved_texts = [doc.page_content for doc in retrieved_docs]\n",
    "generated_answer = chain.invoke({'question': question})\n",
    "\n",
    "test_case = LLMTestCase(\n",
    "    input=question,\n",
    "    actual_output=generated_answer,   # this is the LLM output\n",
    "    retrieval_context=retrieved_texts\n",
    ")\n",
    "\n",
    "evaluate([test_case], [AnswerRelevancyMetric()])\n"
   ]
  },
  {
   "cell_type": "markdown",
   "id": "3d6778b1",
   "metadata": {},
   "source": []
  }
 ],
 "metadata": {
  "kernelspec": {
   "display_name": ".venv",
   "language": "python",
   "name": "python3"
  },
  "language_info": {
   "codemirror_mode": {
    "name": "ipython",
    "version": 3
   },
   "file_extension": ".py",
   "mimetype": "text/x-python",
   "name": "python",
   "nbconvert_exporter": "python",
   "pygments_lexer": "ipython3",
   "version": "3.10.12"
  }
 },
 "nbformat": 4,
 "nbformat_minor": 5
}
